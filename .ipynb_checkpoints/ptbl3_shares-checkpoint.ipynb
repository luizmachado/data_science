{
 "cells": [
  {
   "cell_type": "code",
   "execution_count": 1,
   "metadata": {},
   "outputs": [
    {
     "data": {
      "text/plain": [
<<<<<<< HEAD
       "'D:\\\\GitHub'"
=======
       "'/home/luiz/GitHub/data_science'"
>>>>>>> 9d63c8498c98bb7e70494721e3d97992404ec66b
      ]
     },
     "execution_count": 1,
     "metadata": {},
     "output_type": "execute_result"
    }
   ],
   "source": [
    "import pandas as pd\n",
    "import matplotlib.pyplot as plt\n",
    "import os\n",
    "os.getcwd()"
   ]
  },
  {
   "cell_type": "code",
<<<<<<< HEAD
   "execution_count": 3,
=======
   "execution_count": 8,
>>>>>>> 9d63c8498c98bb7e70494721e3d97992404ec66b
   "metadata": {
    "scrolled": true
   },
   "outputs": [],
   "source": [
<<<<<<< HEAD
    "data = pd.read_csv(r'data_science/DataSets/PTBL3Daily.csv', sep='\\t')"
=======
    "data = pd.read_csv(r'DataSets/PTBL3Daily.csv', sep='\\t')"
>>>>>>> 9d63c8498c98bb7e70494721e3d97992404ec66b
   ]
  },
  {
   "cell_type": "code",
<<<<<<< HEAD
   "execution_count": 15,
=======
   "execution_count": 9,
>>>>>>> 9d63c8498c98bb7e70494721e3d97992404ec66b
   "metadata": {},
   "outputs": [
    {
     "data": {
      "text/html": [
       "<div>\n",
       "<style scoped>\n",
       "    .dataframe tbody tr th:only-of-type {\n",
       "        vertical-align: middle;\n",
       "    }\n",
       "\n",
       "    .dataframe tbody tr th {\n",
       "        vertical-align: top;\n",
       "    }\n",
       "\n",
       "    .dataframe thead th {\n",
       "        text-align: right;\n",
       "    }\n",
       "</style>\n",
       "<table border=\"1\" class=\"dataframe\">\n",
       "  <thead>\n",
       "    <tr style=\"text-align: right;\">\n",
       "      <th></th>\n",
<<<<<<< HEAD
       "      <th>data</th>\n",
       "      <th>abertura</th>\n",
       "      <th>maxima</th>\n",
       "      <th>minima</th>\n",
       "      <th>fechamento</th>\n",
       "      <th>volume</th>\n",
=======
       "      <th>&lt;DATE&gt;</th>\n",
       "      <th>&lt;OPEN&gt;</th>\n",
       "      <th>&lt;HIGH&gt;</th>\n",
       "      <th>&lt;LOW&gt;</th>\n",
       "      <th>&lt;CLOSE&gt;</th>\n",
       "      <th>&lt;TICKVOL&gt;</th>\n",
       "      <th>&lt;VOL&gt;</th>\n",
       "      <th>&lt;SPREAD&gt;</th>\n",
>>>>>>> 9d63c8498c98bb7e70494721e3d97992404ec66b
       "    </tr>\n",
       "  </thead>\n",
       "  <tbody>\n",
       "    <tr>\n",
<<<<<<< HEAD
       "      <td>0</td>\n",
       "      <td>2016-01-04</td>\n",
=======
       "      <th>0</th>\n",
       "      <td>2016.01.04</td>\n",
>>>>>>> 9d63c8498c98bb7e70494721e3d97992404ec66b
       "      <td>1.89</td>\n",
       "      <td>1.89</td>\n",
       "      <td>1.72</td>\n",
       "      <td>1.73</td>\n",
<<<<<<< HEAD
       "      <td>61400</td>\n",
       "    </tr>\n",
       "    <tr>\n",
       "      <td>1</td>\n",
       "      <td>2016-01-05</td>\n",
=======
       "      <td>58</td>\n",
       "      <td>61400</td>\n",
       "      <td>1</td>\n",
       "    </tr>\n",
       "    <tr>\n",
       "      <th>1</th>\n",
       "      <td>2016.01.05</td>\n",
>>>>>>> 9d63c8498c98bb7e70494721e3d97992404ec66b
       "      <td>1.73</td>\n",
       "      <td>1.77</td>\n",
       "      <td>1.66</td>\n",
       "      <td>1.75</td>\n",
<<<<<<< HEAD
       "      <td>97000</td>\n",
       "    </tr>\n",
       "    <tr>\n",
       "      <td>2</td>\n",
       "      <td>2016-01-06</td>\n",
=======
       "      <td>42</td>\n",
       "      <td>97000</td>\n",
       "      <td>1</td>\n",
       "    </tr>\n",
       "    <tr>\n",
       "      <th>2</th>\n",
       "      <td>2016.01.06</td>\n",
>>>>>>> 9d63c8498c98bb7e70494721e3d97992404ec66b
       "      <td>1.75</td>\n",
       "      <td>1.75</td>\n",
       "      <td>1.70</td>\n",
       "      <td>1.74</td>\n",
<<<<<<< HEAD
       "      <td>56900</td>\n",
       "    </tr>\n",
       "    <tr>\n",
       "      <td>3</td>\n",
       "      <td>2016-01-07</td>\n",
=======
       "      <td>26</td>\n",
       "      <td>56900</td>\n",
       "      <td>1</td>\n",
       "    </tr>\n",
       "    <tr>\n",
       "      <th>3</th>\n",
       "      <td>2016.01.07</td>\n",
>>>>>>> 9d63c8498c98bb7e70494721e3d97992404ec66b
       "      <td>1.78</td>\n",
       "      <td>1.78</td>\n",
       "      <td>1.66</td>\n",
       "      <td>1.71</td>\n",
<<<<<<< HEAD
       "      <td>52400</td>\n",
       "    </tr>\n",
       "    <tr>\n",
       "      <td>4</td>\n",
       "      <td>2016-01-08</td>\n",
=======
       "      <td>38</td>\n",
       "      <td>52400</td>\n",
       "      <td>1</td>\n",
       "    </tr>\n",
       "    <tr>\n",
       "      <th>4</th>\n",
       "      <td>2016.01.08</td>\n",
>>>>>>> 9d63c8498c98bb7e70494721e3d97992404ec66b
       "      <td>1.69</td>\n",
       "      <td>1.77</td>\n",
       "      <td>1.69</td>\n",
       "      <td>1.71</td>\n",
<<<<<<< HEAD
       "      <td>20000</td>\n",
=======
       "      <td>33</td>\n",
       "      <td>20000</td>\n",
       "      <td>1</td>\n",
>>>>>>> 9d63c8498c98bb7e70494721e3d97992404ec66b
       "    </tr>\n",
       "  </tbody>\n",
       "</table>\n",
       "</div>"
      ],
      "text/plain": [
<<<<<<< HEAD
       "        data  abertura  maxima  minima  fechamento  volume\n",
       "0 2016-01-04      1.89    1.89    1.72        1.73   61400\n",
       "1 2016-01-05      1.73    1.77    1.66        1.75   97000\n",
       "2 2016-01-06      1.75    1.75    1.70        1.74   56900\n",
       "3 2016-01-07      1.78    1.78    1.66        1.71   52400\n",
       "4 2016-01-08      1.69    1.77    1.69        1.71   20000"
      ]
     },
     "execution_count": 15,
=======
       "       <DATE>  <OPEN>  <HIGH>  <LOW>  <CLOSE>  <TICKVOL>  <VOL>  <SPREAD>\n",
       "0  2016.01.04    1.89    1.89   1.72     1.73         58  61400         1\n",
       "1  2016.01.05    1.73    1.77   1.66     1.75         42  97000         1\n",
       "2  2016.01.06    1.75    1.75   1.70     1.74         26  56900         1\n",
       "3  2016.01.07    1.78    1.78   1.66     1.71         38  52400         1\n",
       "4  2016.01.08    1.69    1.77   1.69     1.71         33  20000         1"
      ]
     },
     "execution_count": 9,
>>>>>>> 9d63c8498c98bb7e70494721e3d97992404ec66b
     "metadata": {},
     "output_type": "execute_result"
    }
   ],
   "source": [
    "data.head()"
   ]
  },
  {
   "cell_type": "code",
<<<<<<< HEAD
   "execution_count": 16,
=======
   "execution_count": 12,
>>>>>>> 9d63c8498c98bb7e70494721e3d97992404ec66b
   "metadata": {},
   "outputs": [
    {
     "data": {
      "text/html": [
       "<div>\n",
       "<style scoped>\n",
       "    .dataframe tbody tr th:only-of-type {\n",
       "        vertical-align: middle;\n",
       "    }\n",
       "\n",
       "    .dataframe tbody tr th {\n",
       "        vertical-align: top;\n",
       "    }\n",
       "\n",
       "    .dataframe thead th {\n",
       "        text-align: right;\n",
       "    }\n",
       "</style>\n",
       "<table border=\"1\" class=\"dataframe\">\n",
       "  <thead>\n",
       "    <tr style=\"text-align: right;\">\n",
       "      <th></th>\n",
<<<<<<< HEAD
       "      <th>data</th>\n",
       "      <th>abertura</th>\n",
       "      <th>maxima</th>\n",
       "      <th>minima</th>\n",
       "      <th>fechamento</th>\n",
       "      <th>volume</th>\n",
=======
       "      <th>&lt;DATE&gt;</th>\n",
       "      <th>&lt;OPEN&gt;</th>\n",
       "      <th>&lt;HIGH&gt;</th>\n",
       "      <th>&lt;LOW&gt;</th>\n",
       "      <th>&lt;CLOSE&gt;</th>\n",
       "      <th>&lt;TICKVOL&gt;</th>\n",
       "      <th>&lt;VOL&gt;</th>\n",
       "      <th>&lt;SPREAD&gt;</th>\n",
>>>>>>> 9d63c8498c98bb7e70494721e3d97992404ec66b
       "    </tr>\n",
       "  </thead>\n",
       "  <tbody>\n",
       "    <tr>\n",
<<<<<<< HEAD
       "      <td>1005</td>\n",
       "      <td>2020-01-27</td>\n",
=======
       "      <th>1005</th>\n",
       "      <td>2020.01.27</td>\n",
>>>>>>> 9d63c8498c98bb7e70494721e3d97992404ec66b
       "      <td>6.60</td>\n",
       "      <td>6.60</td>\n",
       "      <td>6.21</td>\n",
       "      <td>6.22</td>\n",
<<<<<<< HEAD
       "      <td>2044000</td>\n",
       "    </tr>\n",
       "    <tr>\n",
       "      <td>1006</td>\n",
       "      <td>2020-01-28</td>\n",
=======
       "      <td>3728</td>\n",
       "      <td>2044000</td>\n",
       "      <td>1</td>\n",
       "    </tr>\n",
       "    <tr>\n",
       "      <th>1006</th>\n",
       "      <td>2020.01.28</td>\n",
>>>>>>> 9d63c8498c98bb7e70494721e3d97992404ec66b
       "      <td>6.34</td>\n",
       "      <td>6.48</td>\n",
       "      <td>6.04</td>\n",
       "      <td>6.48</td>\n",
<<<<<<< HEAD
       "      <td>1697300</td>\n",
       "    </tr>\n",
       "    <tr>\n",
       "      <td>1007</td>\n",
       "      <td>2020-01-29</td>\n",
=======
       "      <td>2912</td>\n",
       "      <td>1697300</td>\n",
       "      <td>1</td>\n",
       "    </tr>\n",
       "    <tr>\n",
       "      <th>1007</th>\n",
       "      <td>2020.01.29</td>\n",
>>>>>>> 9d63c8498c98bb7e70494721e3d97992404ec66b
       "      <td>6.51</td>\n",
       "      <td>6.55</td>\n",
       "      <td>6.11</td>\n",
       "      <td>6.11</td>\n",
<<<<<<< HEAD
       "      <td>1105000</td>\n",
       "    </tr>\n",
       "    <tr>\n",
       "      <td>1008</td>\n",
       "      <td>2020-01-30</td>\n",
=======
       "      <td>1803</td>\n",
       "      <td>1105000</td>\n",
       "      <td>1</td>\n",
       "    </tr>\n",
       "    <tr>\n",
       "      <th>1008</th>\n",
       "      <td>2020.01.30</td>\n",
>>>>>>> 9d63c8498c98bb7e70494721e3d97992404ec66b
       "      <td>6.00</td>\n",
       "      <td>6.04</td>\n",
       "      <td>5.80</td>\n",
       "      <td>5.95</td>\n",
<<<<<<< HEAD
       "      <td>1140400</td>\n",
       "    </tr>\n",
       "    <tr>\n",
       "      <td>1009</td>\n",
       "      <td>2020-01-31</td>\n",
=======
       "      <td>2805</td>\n",
       "      <td>1140400</td>\n",
       "      <td>1</td>\n",
       "    </tr>\n",
       "    <tr>\n",
       "      <th>1009</th>\n",
       "      <td>2020.01.31</td>\n",
>>>>>>> 9d63c8498c98bb7e70494721e3d97992404ec66b
       "      <td>5.90</td>\n",
       "      <td>5.98</td>\n",
       "      <td>5.76</td>\n",
       "      <td>5.98</td>\n",
<<<<<<< HEAD
       "      <td>693300</td>\n",
=======
       "      <td>1533</td>\n",
       "      <td>693300</td>\n",
       "      <td>0</td>\n",
>>>>>>> 9d63c8498c98bb7e70494721e3d97992404ec66b
       "    </tr>\n",
       "  </tbody>\n",
       "</table>\n",
       "</div>"
      ],
      "text/plain": [
<<<<<<< HEAD
       "           data  abertura  maxima  minima  fechamento   volume\n",
       "1005 2020-01-27      6.60    6.60    6.21        6.22  2044000\n",
       "1006 2020-01-28      6.34    6.48    6.04        6.48  1697300\n",
       "1007 2020-01-29      6.51    6.55    6.11        6.11  1105000\n",
       "1008 2020-01-30      6.00    6.04    5.80        5.95  1140400\n",
       "1009 2020-01-31      5.90    5.98    5.76        5.98   693300"
      ]
     },
     "execution_count": 16,
=======
       "          <DATE>  <OPEN>  <HIGH>  <LOW>  <CLOSE>  <TICKVOL>    <VOL>  <SPREAD>\n",
       "1005  2020.01.27    6.60    6.60   6.21     6.22       3728  2044000         1\n",
       "1006  2020.01.28    6.34    6.48   6.04     6.48       2912  1697300         1\n",
       "1007  2020.01.29    6.51    6.55   6.11     6.11       1803  1105000         1\n",
       "1008  2020.01.30    6.00    6.04   5.80     5.95       2805  1140400         1\n",
       "1009  2020.01.31    5.90    5.98   5.76     5.98       1533   693300         0"
      ]
     },
     "execution_count": 12,
>>>>>>> 9d63c8498c98bb7e70494721e3d97992404ec66b
     "metadata": {},
     "output_type": "execute_result"
    }
   ],
   "source": [
    "data.tail()"
   ]
  },
  {
   "cell_type": "code",
<<<<<<< HEAD
   "execution_count": 17,
=======
   "execution_count": 10,
>>>>>>> 9d63c8498c98bb7e70494721e3d97992404ec66b
   "metadata": {
    "scrolled": true
   },
   "outputs": [
    {
     "name": "stdout",
     "output_type": "stream",
     "text": [
      "<class 'pandas.core.frame.DataFrame'>\n",
      "RangeIndex: 1010 entries, 0 to 1009\n",
<<<<<<< HEAD
      "Data columns (total 6 columns):\n",
      "data          1010 non-null datetime64[ns]\n",
      "abertura      1010 non-null float64\n",
      "maxima        1010 non-null float64\n",
      "minima        1010 non-null float64\n",
      "fechamento    1010 non-null float64\n",
      "volume        1010 non-null int64\n",
      "dtypes: datetime64[ns](1), float64(4), int64(1)\n",
      "memory usage: 47.5 KB\n"
=======
      "Data columns (total 8 columns):\n",
      "<DATE>       1010 non-null object\n",
      "<OPEN>       1010 non-null float64\n",
      "<HIGH>       1010 non-null float64\n",
      "<LOW>        1010 non-null float64\n",
      "<CLOSE>      1010 non-null float64\n",
      "<TICKVOL>    1010 non-null int64\n",
      "<VOL>        1010 non-null int64\n",
      "<SPREAD>     1010 non-null int64\n",
      "dtypes: float64(4), int64(3), object(1)\n",
      "memory usage: 63.2+ KB\n"
>>>>>>> 9d63c8498c98bb7e70494721e3d97992404ec66b
     ]
    }
   ],
   "source": [
    "data.info()"
   ]
  },
  {
   "cell_type": "code",
<<<<<<< HEAD
   "execution_count": 7,
   "metadata": {},
   "outputs": [
    {
     "data": {
      "text/plain": [
       "Index(['<DATE>', '<OPEN>', '<HIGH>', '<LOW>', '<CLOSE>', '<TICKVOL>', '<VOL>',\n",
       "       '<SPREAD>'],\n",
       "      dtype='object')"
      ]
     },
     "execution_count": 7,
     "metadata": {},
     "output_type": "execute_result"
    }
   ],
   "source": [
    "data.columns"
   ]
  },
  {
   "cell_type": "code",
   "execution_count": 8,
   "metadata": {},
   "outputs": [],
   "source": [
    "data.columns = ['data', 'abertura', 'maxima', 'minima', 'fechamento', 'volume_tick', 'volume', 'spread']"
   ]
  },
  {
   "cell_type": "code",
   "execution_count": 9,
   "metadata": {},
   "outputs": [
    {
     "data": {
      "text/plain": [
       "1004"
      ]
     },
     "execution_count": 9,
     "metadata": {},
     "output_type": "execute_result"
    }
   ],
   "source": [
    "data['fechamento'].idxmax()"
   ]
  },
  {
   "cell_type": "code",
   "execution_count": 10,
   "metadata": {},
   "outputs": [
    {
     "data": {
      "text/plain": [
       "data           2020.01.24\n",
       "abertura             6.58\n",
       "maxima                6.7\n",
       "minima               6.35\n",
       "fechamento            6.7\n",
       "volume_tick          2368\n",
       "volume            1622500\n",
       "spread                  1\n",
       "Name: 1004, dtype: object"
      ]
     },
     "execution_count": 10,
     "metadata": {},
     "output_type": "execute_result"
    }
   ],
   "source": [
    "data.iloc[1004]"
   ]
  },
  {
   "cell_type": "code",
=======
>>>>>>> 9d63c8498c98bb7e70494721e3d97992404ec66b
   "execution_count": 11,
   "metadata": {},
   "outputs": [
    {
     "data": {
<<<<<<< HEAD
      "text/plain": [
       "6.007142857142858"
      ]
     },
     "execution_count": 11,
     "metadata": {},
     "output_type": "execute_result"
    }
   ],
   "source": [
    "data['fechamento'].tail(21).mean()"
   ]
  },
  {
   "cell_type": "code",
   "execution_count": 12,
   "metadata": {},
   "outputs": [],
   "source": [
    "data.drop(['volume_tick', 'spread'], axis=1, inplace=True)"
   ]
  },
  {
   "cell_type": "code",
   "execution_count": 13,
   "metadata": {},
   "outputs": [],
   "source": [
    "data['data'] = pd.to_datetime(data['data'], format='%Y.%m.%d')"
   ]
  },
  {
   "cell_type": "code",
   "execution_count": 20,
   "metadata": {},
   "outputs": [
    {
     "data": {
=======
>>>>>>> 9d63c8498c98bb7e70494721e3d97992404ec66b
      "text/html": [
       "<div>\n",
       "<style scoped>\n",
       "    .dataframe tbody tr th:only-of-type {\n",
       "        vertical-align: middle;\n",
       "    }\n",
       "\n",
       "    .dataframe tbody tr th {\n",
       "        vertical-align: top;\n",
       "    }\n",
       "\n",
       "    .dataframe thead th {\n",
       "        text-align: right;\n",
       "    }\n",
       "</style>\n",
       "<table border=\"1\" class=\"dataframe\">\n",
       "  <thead>\n",
       "    <tr style=\"text-align: right;\">\n",
       "      <th></th>\n",
<<<<<<< HEAD
       "      <th>data</th>\n",
       "      <th>abertura</th>\n",
       "      <th>maxima</th>\n",
       "      <th>minima</th>\n",
       "      <th>fechamento</th>\n",
       "      <th>volume</th>\n",
=======
       "      <th>&lt;OPEN&gt;</th>\n",
       "      <th>&lt;HIGH&gt;</th>\n",
       "      <th>&lt;LOW&gt;</th>\n",
       "      <th>&lt;CLOSE&gt;</th>\n",
       "      <th>&lt;TICKVOL&gt;</th>\n",
       "      <th>&lt;VOL&gt;</th>\n",
       "      <th>&lt;SPREAD&gt;</th>\n",
>>>>>>> 9d63c8498c98bb7e70494721e3d97992404ec66b
       "    </tr>\n",
       "  </thead>\n",
       "  <tbody>\n",
       "    <tr>\n",
<<<<<<< HEAD
       "      <td>count</td>\n",
       "      <td>1010</td>\n",
=======
       "      <th>count</th>\n",
       "      <td>1010.000000</td>\n",
>>>>>>> 9d63c8498c98bb7e70494721e3d97992404ec66b
       "      <td>1010.000000</td>\n",
       "      <td>1010.000000</td>\n",
       "      <td>1010.000000</td>\n",
       "      <td>1010.000000</td>\n",
       "      <td>1.010000e+03</td>\n",
<<<<<<< HEAD
       "    </tr>\n",
       "    <tr>\n",
       "      <td>unique</td>\n",
       "      <td>1010</td>\n",
       "      <td>NaN</td>\n",
       "      <td>NaN</td>\n",
       "      <td>NaN</td>\n",
       "      <td>NaN</td>\n",
       "      <td>NaN</td>\n",
       "    </tr>\n",
       "    <tr>\n",
       "      <td>top</td>\n",
       "      <td>2017-10-30 00:00:00</td>\n",
       "      <td>NaN</td>\n",
       "      <td>NaN</td>\n",
       "      <td>NaN</td>\n",
       "      <td>NaN</td>\n",
       "      <td>NaN</td>\n",
       "    </tr>\n",
       "    <tr>\n",
       "      <td>freq</td>\n",
       "      <td>1</td>\n",
       "      <td>NaN</td>\n",
       "      <td>NaN</td>\n",
       "      <td>NaN</td>\n",
       "      <td>NaN</td>\n",
       "      <td>NaN</td>\n",
       "    </tr>\n",
       "    <tr>\n",
       "      <td>first</td>\n",
       "      <td>2016-01-04 00:00:00</td>\n",
       "      <td>NaN</td>\n",
       "      <td>NaN</td>\n",
       "      <td>NaN</td>\n",
       "      <td>NaN</td>\n",
       "      <td>NaN</td>\n",
       "    </tr>\n",
       "    <tr>\n",
       "      <td>last</td>\n",
       "      <td>2020-01-31 00:00:00</td>\n",
       "      <td>NaN</td>\n",
       "      <td>NaN</td>\n",
       "      <td>NaN</td>\n",
       "      <td>NaN</td>\n",
       "      <td>NaN</td>\n",
       "    </tr>\n",
       "    <tr>\n",
       "      <td>mean</td>\n",
       "      <td>NaN</td>\n",
=======
       "      <td>1010.000000</td>\n",
       "    </tr>\n",
       "    <tr>\n",
       "      <th>mean</th>\n",
>>>>>>> 9d63c8498c98bb7e70494721e3d97992404ec66b
       "      <td>3.737089</td>\n",
       "      <td>3.794693</td>\n",
       "      <td>3.663653</td>\n",
       "      <td>3.730317</td>\n",
<<<<<<< HEAD
       "      <td>4.842368e+05</td>\n",
       "    </tr>\n",
       "    <tr>\n",
       "      <td>std</td>\n",
       "      <td>NaN</td>\n",
=======
       "      <td>844.741584</td>\n",
       "      <td>4.842368e+05</td>\n",
       "      <td>0.999010</td>\n",
       "    </tr>\n",
       "    <tr>\n",
       "      <th>std</th>\n",
>>>>>>> 9d63c8498c98bb7e70494721e3d97992404ec66b
       "      <td>1.237087</td>\n",
       "      <td>1.253343</td>\n",
       "      <td>1.216865</td>\n",
       "      <td>1.238275</td>\n",
<<<<<<< HEAD
       "      <td>4.680933e+05</td>\n",
       "    </tr>\n",
       "    <tr>\n",
       "      <td>min</td>\n",
       "      <td>NaN</td>\n",
=======
       "      <td>738.194854</td>\n",
       "      <td>4.680933e+05</td>\n",
       "      <td>0.031466</td>\n",
       "    </tr>\n",
       "    <tr>\n",
       "      <th>min</th>\n",
>>>>>>> 9d63c8498c98bb7e70494721e3d97992404ec66b
       "      <td>1.510000</td>\n",
       "      <td>1.530000</td>\n",
       "      <td>1.480000</td>\n",
       "      <td>1.510000</td>\n",
<<<<<<< HEAD
       "      <td>4.000000e+03</td>\n",
       "    </tr>\n",
       "    <tr>\n",
       "      <td>25%</td>\n",
       "      <td>NaN</td>\n",
=======
       "      <td>7.000000</td>\n",
       "      <td>4.000000e+03</td>\n",
       "      <td>0.000000</td>\n",
       "    </tr>\n",
       "    <tr>\n",
       "      <th>25%</th>\n",
>>>>>>> 9d63c8498c98bb7e70494721e3d97992404ec66b
       "      <td>2.502500</td>\n",
       "      <td>2.542500</td>\n",
       "      <td>2.452500</td>\n",
       "      <td>2.500000</td>\n",
<<<<<<< HEAD
       "      <td>2.151500e+05</td>\n",
       "    </tr>\n",
       "    <tr>\n",
       "      <td>50%</td>\n",
       "      <td>NaN</td>\n",
=======
       "      <td>346.250000</td>\n",
       "      <td>2.151500e+05</td>\n",
       "      <td>1.000000</td>\n",
       "    </tr>\n",
       "    <tr>\n",
       "      <th>50%</th>\n",
>>>>>>> 9d63c8498c98bb7e70494721e3d97992404ec66b
       "      <td>3.965000</td>\n",
       "      <td>4.025000</td>\n",
       "      <td>3.885000</td>\n",
       "      <td>3.950000</td>\n",
<<<<<<< HEAD
       "      <td>3.541500e+05</td>\n",
       "    </tr>\n",
       "    <tr>\n",
       "      <td>75%</td>\n",
       "      <td>NaN</td>\n",
=======
       "      <td>685.000000</td>\n",
       "      <td>3.541500e+05</td>\n",
       "      <td>1.000000</td>\n",
       "    </tr>\n",
       "    <tr>\n",
       "      <th>75%</th>\n",
>>>>>>> 9d63c8498c98bb7e70494721e3d97992404ec66b
       "      <td>4.850000</td>\n",
       "      <td>4.900000</td>\n",
       "      <td>4.770000</td>\n",
       "      <td>4.850000</td>\n",
<<<<<<< HEAD
       "      <td>6.116000e+05</td>\n",
       "    </tr>\n",
       "    <tr>\n",
       "      <td>max</td>\n",
       "      <td>NaN</td>\n",
=======
       "      <td>1112.250000</td>\n",
       "      <td>6.116000e+05</td>\n",
       "      <td>1.000000</td>\n",
       "    </tr>\n",
       "    <tr>\n",
       "      <th>max</th>\n",
>>>>>>> 9d63c8498c98bb7e70494721e3d97992404ec66b
       "      <td>6.660000</td>\n",
       "      <td>6.700000</td>\n",
       "      <td>6.500000</td>\n",
       "      <td>6.700000</td>\n",
<<<<<<< HEAD
       "      <td>6.000000e+06</td>\n",
=======
       "      <td>7994.000000</td>\n",
       "      <td>6.000000e+06</td>\n",
       "      <td>1.000000</td>\n",
>>>>>>> 9d63c8498c98bb7e70494721e3d97992404ec66b
       "    </tr>\n",
       "  </tbody>\n",
       "</table>\n",
       "</div>"
      ],
      "text/plain": [
<<<<<<< HEAD
       "                       data     abertura       maxima       minima  \\\n",
       "count                  1010  1010.000000  1010.000000  1010.000000   \n",
       "unique                 1010          NaN          NaN          NaN   \n",
       "top     2017-10-30 00:00:00          NaN          NaN          NaN   \n",
       "freq                      1          NaN          NaN          NaN   \n",
       "first   2016-01-04 00:00:00          NaN          NaN          NaN   \n",
       "last    2020-01-31 00:00:00          NaN          NaN          NaN   \n",
       "mean                    NaN     3.737089     3.794693     3.663653   \n",
       "std                     NaN     1.237087     1.253343     1.216865   \n",
       "min                     NaN     1.510000     1.530000     1.480000   \n",
       "25%                     NaN     2.502500     2.542500     2.452500   \n",
       "50%                     NaN     3.965000     4.025000     3.885000   \n",
       "75%                     NaN     4.850000     4.900000     4.770000   \n",
       "max                     NaN     6.660000     6.700000     6.500000   \n",
       "\n",
       "         fechamento        volume  \n",
       "count   1010.000000  1.010000e+03  \n",
       "unique          NaN           NaN  \n",
       "top             NaN           NaN  \n",
       "freq            NaN           NaN  \n",
       "first           NaN           NaN  \n",
       "last            NaN           NaN  \n",
       "mean       3.730317  4.842368e+05  \n",
       "std        1.238275  4.680933e+05  \n",
       "min        1.510000  4.000000e+03  \n",
       "25%        2.500000  2.151500e+05  \n",
       "50%        3.950000  3.541500e+05  \n",
       "75%        4.850000  6.116000e+05  \n",
       "max        6.700000  6.000000e+06  "
      ]
     },
     "execution_count": 20,
=======
       "            <OPEN>       <HIGH>        <LOW>      <CLOSE>    <TICKVOL>  \\\n",
       "count  1010.000000  1010.000000  1010.000000  1010.000000  1010.000000   \n",
       "mean      3.737089     3.794693     3.663653     3.730317   844.741584   \n",
       "std       1.237087     1.253343     1.216865     1.238275   738.194854   \n",
       "min       1.510000     1.530000     1.480000     1.510000     7.000000   \n",
       "25%       2.502500     2.542500     2.452500     2.500000   346.250000   \n",
       "50%       3.965000     4.025000     3.885000     3.950000   685.000000   \n",
       "75%       4.850000     4.900000     4.770000     4.850000  1112.250000   \n",
       "max       6.660000     6.700000     6.500000     6.700000  7994.000000   \n",
       "\n",
       "              <VOL>     <SPREAD>  \n",
       "count  1.010000e+03  1010.000000  \n",
       "mean   4.842368e+05     0.999010  \n",
       "std    4.680933e+05     0.031466  \n",
       "min    4.000000e+03     0.000000  \n",
       "25%    2.151500e+05     1.000000  \n",
       "50%    3.541500e+05     1.000000  \n",
       "75%    6.116000e+05     1.000000  \n",
       "max    6.000000e+06     1.000000  "
      ]
     },
     "execution_count": 11,
>>>>>>> 9d63c8498c98bb7e70494721e3d97992404ec66b
     "metadata": {},
     "output_type": "execute_result"
    }
   ],
   "source": [
<<<<<<< HEAD
    "data.groupby('data')."
=======
    "data.describe()"
>>>>>>> 9d63c8498c98bb7e70494721e3d97992404ec66b
   ]
  },
  {
   "cell_type": "code",
   "execution_count": null,
   "metadata": {},
   "outputs": [],
   "source": []
  }
 ],
 "metadata": {
  "kernelspec": {
   "display_name": "Python 3",
   "language": "python",
   "name": "python3"
  },
  "language_info": {
   "codemirror_mode": {
    "name": "ipython",
    "version": 3
   },
   "file_extension": ".py",
   "mimetype": "text/x-python",
   "name": "python",
   "nbconvert_exporter": "python",
   "pygments_lexer": "ipython3",
<<<<<<< HEAD
   "version": "3.7.4"
=======
   "version": "3.6.9"
>>>>>>> 9d63c8498c98bb7e70494721e3d97992404ec66b
  }
 },
 "nbformat": 4,
 "nbformat_minor": 2
}
