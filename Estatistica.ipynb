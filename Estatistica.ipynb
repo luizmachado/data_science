{
 "cells": [
  {
   "cell_type": "markdown",
   "metadata": {},
   "source": [
    "### Histograma"
   ]
  },
  {
   "cell_type": "code",
   "execution_count": 1,
   "metadata": {},
   "outputs": [],
   "source": [
    "import pandas as pd\n",
    "import matplotlib.pyplot as plt\n",
    "%matplotlib inline"
   ]
  },
  {
   "cell_type": "code",
   "execution_count": 41,
   "metadata": {},
   "outputs": [],
   "source": [
    "#Distâncias em km entre casa e trabalho \n",
    "km = pd.Series([4,6,6,7,11,13,18,18,21,24,26,27,35,36,36,42,43,45,49])"
   ]
  },
  {
   "cell_type": "code",
   "execution_count": 63,
   "metadata": {},
   "outputs": [],
   "source": [
    "#Criar lista com ticks do eixo x\n",
    "def lista_ticks(barras, serie):\n",
    "    intervalo_ticks = ((serie.max() - serie.min()) / barras) #Intervalo ideal\n",
    "    ticks = []\n",
    "    x = serie.min()\n",
    "    while x <= serie.max():\n",
    "        ticks.append(x)\n",
    "        x += intervalo_ticks\n",
    "    return ticks\n",
    "\n",
    "#Criar lista com frequencia_relativa\n",
    "def lista_freq_rel(serie, yticks):\n",
    "    lista_freq = []\n",
    "    for x in yticks:\n",
    "        valor = x / len(serie)\n",
    "        lista_freq.append(valor)\n",
    "    return lista_freq"
   ]
  },
  {
   "cell_type": "code",
   "execution_count": 52,
   "metadata": {},
   "outputs": [],
   "source": [
    "barras = 5\n",
    "ticks = lista_ticks(barras, km)"
   ]
  },
  {
   "cell_type": "code",
   "execution_count": 61,
   "metadata": {},
   "outputs": [
    {
     "data": {
      "image/png": "[encoded data removed]",
      "text/plain": [
       "<Figure size 432x288 with 1 Axes>"
      ]
     },
     "metadata": {
      "needs_background": "light"
     },
     "output_type": "display_data"
    }
   ],
   "source": [
    "ax = km.plot.hist(bins=barras, rwidth=0.95)\n",
    "yticks = ax.get_yticks()\n",
    "plt.xticks(ticks)\n",
    "plt.title('Distância entre casa e trabalho')\n",
    "plt.xlabel('Km')\n",
    "plt.ylabel('Frequência')\n",
    "plt.grid(axis='y', alpha=0.30)\n",
    "plt.show()"
   ]
  },
  {
   "cell_type": "code",
   "execution_count": 65,
   "metadata": {},
   "outputs": [],
   "source": [
    "teste = lista_freq_rel(km, yticks)"
   ]
  },
  {
   "cell_type": "code",
   "execution_count": 66,
   "metadata": {},
   "outputs": [
    {
     "data": {
      "text/plain": [
       "[0.0,\n",
       " 0.05263157894736842,\n",
       " 0.10526315789473684,\n",
       " 0.15789473684210525,\n",
       " 0.21052631578947367,\n",
       " 0.2631578947368421,\n",
       " 0.3157894736842105]"
      ]
     },
     "execution_count": 66,
     "metadata": {},
     "output_type": "execute_result"
    }
   ],
   "source": [
    "teste"
   ]
  },
  {
   "cell_type": "code",
   "execution_count": 68,
   "metadata": {},
   "outputs": [],
   "source": [
    "soma = 0\n",
    "for x in teste:\n",
    "    soma += x"
   ]
  },
  {
   "cell_type": "code",
   "execution_count": 69,
   "metadata": {},
   "outputs": [
    {
     "data": {
      "text/plain": [
       "1.1052631578947367"
      ]
     },
     "execution_count": 69,
     "metadata": {},
     "output_type": "execute_result"
    }
   ],
   "source": [
    "soma"
   ]
  },
  {
   "cell_type": "code",
   "execution_count": null,
   "metadata": {},
   "outputs": [],
   "source": []
  }
 ],
 "metadata": {
  "kernelspec": {
   "display_name": "Python 3",
   "language": "python",
   "name": "python3"
  },
  "language_info": {
   "codemirror_mode": {
    "name": "ipython",
    "version": 3
   },
   "file_extension": ".py",
   "mimetype": "text/x-python",
   "name": "python",
   "nbconvert_exporter": "python",
   "pygments_lexer": "ipython3",
   "version": "3.7.4"
  }
 },
 "nbformat": 4,
 "nbformat_minor": 2
}
