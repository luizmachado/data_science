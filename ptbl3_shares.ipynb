{
 "cells": [
  {
   "cell_type": "code",
   "execution_count": 1,
   "metadata": {},
   "outputs": [
    {
     "data": {
      "text/plain": [
       "'/home/luiz/GitHub/data_science'"
      ]
     },
     "execution_count": 1,
     "metadata": {},
     "output_type": "execute_result"
    }
   ],
   "source": [
    "import pandas as pd\n",
    "import matplotlib.pyplot as plt\n",
    "import os\n",
    "os.getcwd()"
   ]
  },
  {
   "cell_type": "code",
   "execution_count": 8,
   "metadata": {
    "scrolled": true
   },
   "outputs": [],
   "source": [
    "data = pd.read_csv(r'DataSets/PTBL3Daily.csv', sep='\\t')"
   ]
  },
  {
   "cell_type": "code",
   "execution_count": 9,
   "metadata": {},
   "outputs": [
    {
     "data": {
      "text/html": [
       "<div>\n",
       "<style scoped>\n",
       "    .dataframe tbody tr th:only-of-type {\n",
       "        vertical-align: middle;\n",
       "    }\n",
       "\n",
       "    .dataframe tbody tr th {\n",
       "        vertical-align: top;\n",
       "    }\n",
       "\n",
       "    .dataframe thead th {\n",
       "        text-align: right;\n",
       "    }\n",
       "</style>\n",
       "<table border=\"1\" class=\"dataframe\">\n",
       "  <thead>\n",
       "    <tr style=\"text-align: right;\">\n",
       "      <th></th>\n",
       "      <th>&lt;DATE&gt;</th>\n",
       "      <th>&lt;OPEN&gt;</th>\n",
       "      <th>&lt;HIGH&gt;</th>\n",
       "      <th>&lt;LOW&gt;</th>\n",
       "      <th>&lt;CLOSE&gt;</th>\n",
       "      <th>&lt;TICKVOL&gt;</th>\n",
       "      <th>&lt;VOL&gt;</th>\n",
       "      <th>&lt;SPREAD&gt;</th>\n",
       "    </tr>\n",
       "  </thead>\n",
       "  <tbody>\n",
       "    <tr>\n",
       "      <th>0</th>\n",
       "      <td>2016.01.04</td>\n",
       "      <td>1.89</td>\n",
       "      <td>1.89</td>\n",
       "      <td>1.72</td>\n",
       "      <td>1.73</td>\n",
       "      <td>58</td>\n",
       "      <td>61400</td>\n",
       "      <td>1</td>\n",
       "    </tr>\n",
       "    <tr>\n",
       "      <th>1</th>\n",
       "      <td>2016.01.05</td>\n",
       "      <td>1.73</td>\n",
       "      <td>1.77</td>\n",
       "      <td>1.66</td>\n",
       "      <td>1.75</td>\n",
       "      <td>42</td>\n",
       "      <td>97000</td>\n",
       "      <td>1</td>\n",
       "    </tr>\n",
       "    <tr>\n",
       "      <th>2</th>\n",
       "      <td>2016.01.06</td>\n",
       "      <td>1.75</td>\n",
       "      <td>1.75</td>\n",
       "      <td>1.70</td>\n",
       "      <td>1.74</td>\n",
       "      <td>26</td>\n",
       "      <td>56900</td>\n",
       "      <td>1</td>\n",
       "    </tr>\n",
       "    <tr>\n",
       "      <th>3</th>\n",
       "      <td>2016.01.07</td>\n",
       "      <td>1.78</td>\n",
       "      <td>1.78</td>\n",
       "      <td>1.66</td>\n",
       "      <td>1.71</td>\n",
       "      <td>38</td>\n",
       "      <td>52400</td>\n",
       "      <td>1</td>\n",
       "    </tr>\n",
       "    <tr>\n",
       "      <th>4</th>\n",
       "      <td>2016.01.08</td>\n",
       "      <td>1.69</td>\n",
       "      <td>1.77</td>\n",
       "      <td>1.69</td>\n",
       "      <td>1.71</td>\n",
       "      <td>33</td>\n",
       "      <td>20000</td>\n",
       "      <td>1</td>\n",
       "    </tr>\n",
       "  </tbody>\n",
       "</table>\n",
       "</div>"
      ],
      "text/plain": [
       "       <DATE>  <OPEN>  <HIGH>  <LOW>  <CLOSE>  <TICKVOL>  <VOL>  <SPREAD>\n",
       "0  2016.01.04    1.89    1.89   1.72     1.73         58  61400         1\n",
       "1  2016.01.05    1.73    1.77   1.66     1.75         42  97000         1\n",
       "2  2016.01.06    1.75    1.75   1.70     1.74         26  56900         1\n",
       "3  2016.01.07    1.78    1.78   1.66     1.71         38  52400         1\n",
       "4  2016.01.08    1.69    1.77   1.69     1.71         33  20000         1"
      ]
     },
     "execution_count": 9,
     "metadata": {},
     "output_type": "execute_result"
    }
   ],
   "source": [
    "data.head()"
   ]
  },
  {
   "cell_type": "code",
   "execution_count": 20,
   "metadata": {},
   "outputs": [
    {
     "data": {
      "text/html": [
       "<div>\n",
       "<style scoped>\n",
       "    .dataframe tbody tr th:only-of-type {\n",
       "        vertical-align: middle;\n",
       "    }\n",
       "\n",
       "    .dataframe tbody tr th {\n",
       "        vertical-align: top;\n",
       "    }\n",
       "\n",
       "    .dataframe thead th {\n",
       "        text-align: right;\n",
       "    }\n",
       "</style>\n",
       "<table border=\"1\" class=\"dataframe\">\n",
       "  <thead>\n",
       "    <tr style=\"text-align: right;\">\n",
       "      <th></th>\n",
       "      <th>data</th>\n",
       "      <th>abertura</th>\n",
       "      <th>maxima</th>\n",
       "      <th>minima</th>\n",
       "      <th>fechamento</th>\n",
       "      <th>volume_tick</th>\n",
       "      <th>volume</th>\n",
       "      <th>spread</th>\n",
       "    </tr>\n",
       "  </thead>\n",
       "  <tbody>\n",
       "    <tr>\n",
       "      <th>1005</th>\n",
       "      <td>2020.01.27</td>\n",
       "      <td>6.60</td>\n",
       "      <td>6.60</td>\n",
       "      <td>6.21</td>\n",
       "      <td>6.22</td>\n",
       "      <td>3728</td>\n",
       "      <td>2044000</td>\n",
       "      <td>1</td>\n",
       "    </tr>\n",
       "    <tr>\n",
       "      <th>1006</th>\n",
       "      <td>2020.01.28</td>\n",
       "      <td>6.34</td>\n",
       "      <td>6.48</td>\n",
       "      <td>6.04</td>\n",
       "      <td>6.48</td>\n",
       "      <td>2912</td>\n",
       "      <td>1697300</td>\n",
       "      <td>1</td>\n",
       "    </tr>\n",
       "    <tr>\n",
       "      <th>1007</th>\n",
       "      <td>2020.01.29</td>\n",
       "      <td>6.51</td>\n",
       "      <td>6.55</td>\n",
       "      <td>6.11</td>\n",
       "      <td>6.11</td>\n",
       "      <td>1803</td>\n",
       "      <td>1105000</td>\n",
       "      <td>1</td>\n",
       "    </tr>\n",
       "    <tr>\n",
       "      <th>1008</th>\n",
       "      <td>2020.01.30</td>\n",
       "      <td>6.00</td>\n",
       "      <td>6.04</td>\n",
       "      <td>5.80</td>\n",
       "      <td>5.95</td>\n",
       "      <td>2805</td>\n",
       "      <td>1140400</td>\n",
       "      <td>1</td>\n",
       "    </tr>\n",
       "    <tr>\n",
       "      <th>1009</th>\n",
       "      <td>2020.01.31</td>\n",
       "      <td>5.90</td>\n",
       "      <td>5.98</td>\n",
       "      <td>5.76</td>\n",
       "      <td>5.98</td>\n",
       "      <td>1533</td>\n",
       "      <td>693300</td>\n",
       "      <td>0</td>\n",
       "    </tr>\n",
       "  </tbody>\n",
       "</table>\n",
       "</div>"
      ],
      "text/plain": [
       "            data  abertura  maxima  minima  fechamento  volume_tick   volume  \\\n",
       "1005  2020.01.27      6.60    6.60    6.21        6.22         3728  2044000   \n",
       "1006  2020.01.28      6.34    6.48    6.04        6.48         2912  1697300   \n",
       "1007  2020.01.29      6.51    6.55    6.11        6.11         1803  1105000   \n",
       "1008  2020.01.30      6.00    6.04    5.80        5.95         2805  1140400   \n",
       "1009  2020.01.31      5.90    5.98    5.76        5.98         1533   693300   \n",
       "\n",
       "      spread  \n",
       "1005       1  \n",
       "1006       1  \n",
       "1007       1  \n",
       "1008       1  \n",
       "1009       0  "
      ]
     },
     "execution_count": 20,
     "metadata": {},
     "output_type": "execute_result"
    }
   ],
   "source": [
    "data.tail()"
   ]
  },
  {
   "cell_type": "code",
   "execution_count": 10,
   "metadata": {
    "scrolled": true
   },
   "outputs": [
    {
     "name": "stdout",
     "output_type": "stream",
     "text": [
      "<class 'pandas.core.frame.DataFrame'>\n",
      "RangeIndex: 1010 entries, 0 to 1009\n",
      "Data columns (total 8 columns):\n",
      "<DATE>       1010 non-null object\n",
      "<OPEN>       1010 non-null float64\n",
      "<HIGH>       1010 non-null float64\n",
      "<LOW>        1010 non-null float64\n",
      "<CLOSE>      1010 non-null float64\n",
      "<TICKVOL>    1010 non-null int64\n",
      "<VOL>        1010 non-null int64\n",
      "<SPREAD>     1010 non-null int64\n",
      "dtypes: float64(4), int64(3), object(1)\n",
      "memory usage: 63.2+ KB\n"
     ]
    }
   ],
   "source": [
    "data.info()"
   ]
  },
  {
   "cell_type": "code",
   "execution_count": 18,
   "metadata": {},
   "outputs": [
    {
     "data": {
      "text/plain": [
       "Index(['<DATE>', '<OPEN>', '<HIGH>', '<LOW>', '<CLOSE>', '<TICKVOL>', '<VOL>',\n",
       "       '<SPREAD>'],\n",
       "      dtype='object')"
      ]
     },
     "execution_count": 18,
     "metadata": {},
     "output_type": "execute_result"
    }
   ],
   "source": [
    "data.columns"
   ]
  },
  {
   "cell_type": "code",
   "execution_count": 19,
   "metadata": {},
   "outputs": [],
   "source": [
    "data.columns = ['data', 'abertura', 'maxima', 'minima', 'fechamento', 'volume_tick', 'volume', 'spread']"
   ]
  },
  {
   "cell_type": "code",
   "execution_count": 23,
   "metadata": {},
   "outputs": [
    {
     "data": {
      "text/plain": [
       "1004"
      ]
     },
     "execution_count": 23,
     "metadata": {},
     "output_type": "execute_result"
    }
   ],
   "source": [
    "data['fechamento'].idxmax()"
   ]
  },
  {
   "cell_type": "code",
   "execution_count": 25,
   "metadata": {},
   "outputs": [
    {
     "data": {
      "text/plain": [
       "data           2020.01.24\n",
       "abertura             6.58\n",
       "maxima                6.7\n",
       "minima               6.35\n",
       "fechamento            6.7\n",
       "volume_tick          2368\n",
       "volume            1622500\n",
       "spread                  1\n",
       "Name: 1004, dtype: object"
      ]
     },
     "execution_count": 25,
     "metadata": {},
     "output_type": "execute_result"
    }
   ],
   "source": [
    "data.iloc[1004]"
   ]
  },
  {
   "cell_type": "code",
   "execution_count": null,
   "metadata": {},
   "outputs": [],
   "source": []
  }
 ],
 "metadata": {
  "kernelspec": {
   "display_name": "Python 3",
   "language": "python",
   "name": "python3"
  },
  "language_info": {
   "codemirror_mode": {
    "name": "ipython",
    "version": 3
   },
   "file_extension": ".py",
   "mimetype": "text/x-python",
   "name": "python",
   "nbconvert_exporter": "python",
   "pygments_lexer": "ipython3",
   "version": "3.6.9"
  }
 },
 "nbformat": 4,
 "nbformat_minor": 2
}
