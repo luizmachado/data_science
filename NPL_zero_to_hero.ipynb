{
 "cells": [
  {
   "cell_type": "code",
   "execution_count": 28,
   "metadata": {},
   "outputs": [],
   "source": [
    "import tensorflow as tf\n",
    "from tensorflow import keras\n",
    "from tensorflow.keras.preprocessing.text import Tokenizer\n",
    "from tensorflow.keras.preprocessing.sequence import pad_sequences"
   ]
  },
  {
   "cell_type": "code",
   "execution_count": 18,
   "metadata": {},
   "outputs": [],
   "source": [
    "sentences = [\n",
    "    'Eu amo minha esposa',\n",
    "    'Eu amo minha filha',\n",
    "    'Eu amo meu filho',\n",
    "    'Você ama meu cachorro!',\n",
    "    'Você acha que meu cachorro é incrível?'\n",
    "]\n",
    "\n",
    "test_data = [\n",
    "    'I realmente amo o meu cachorro',\n",
    "    'Meu cachorro ama meu peixe-boi'\n",
    "]"
   ]
  },
  {
   "cell_type": "code",
   "execution_count": 19,
   "metadata": {},
   "outputs": [],
   "source": [
    "#Criar modelo tokenizacao com até 100 palavras com token out of vocabulary\n",
    "tokenizer = Tokenizer(num_words = 100, oov_token=\"<OOV>\")"
   ]
  },
  {
   "cell_type": "code",
   "execution_count": 29,
   "metadata": {},
   "outputs": [],
   "source": [
    "#treinar modelo para tokenizar senteças\n",
    "tokenizer.fit_on_texts(sentences)\n",
    "\n",
    "#Dicionario com indices de tokens\n",
    "word_index = tokenizer.word_index\n",
    "\n",
    "#Sequencias dos indices\n",
    "sequences = tokenizer.texts_to_sequences(sentences)\n",
    "\n",
    "#Padding sequencias\n",
    "padded = pad_sequences(sequences)"
   ]
  },
  {
   "cell_type": "code",
   "execution_count": 30,
   "metadata": {},
   "outputs": [
    {
     "name": "stdout",
     "output_type": "stream",
     "text": [
      "{'<OOV>': 1, 'eu': 2, 'amo': 3, 'meu': 4, 'minha': 5, 'você': 6, 'cachorro': 7, 'esposa': 8, 'filha': 9, 'filho': 10, 'ama': 11, 'acha': 12, 'que': 13, 'é': 14, 'incrível': 15}\n"
     ]
    }
   ],
   "source": [
    "print(word_index)"
   ]
  },
  {
   "cell_type": "code",
   "execution_count": 31,
   "metadata": {},
   "outputs": [
    {
     "name": "stdout",
     "output_type": "stream",
     "text": [
      "[[2, 3, 5, 8], [2, 3, 5, 9], [2, 3, 4, 10], [6, 11, 4, 7], [6, 12, 13, 4, 7, 14, 15]]\n"
     ]
    }
   ],
   "source": [
    "print(sequences)"
   ]
  },
  {
   "cell_type": "code",
   "execution_count": 32,
   "metadata": {},
   "outputs": [
    {
     "name": "stdout",
     "output_type": "stream",
     "text": [
      "[[1, 1, 3, 1, 4, 7], [4, 7, 11, 4, 1, 1]]\n"
     ]
    }
   ],
   "source": [
    "test_seq = tokenizer.texts_to_sequences(test_data)\n",
    "print(test_seq)"
   ]
  },
  {
   "cell_type": "code",
   "execution_count": 33,
   "metadata": {},
   "outputs": [
    {
     "name": "stdout",
     "output_type": "stream",
     "text": [
      "[[ 0  0  0  2  3  5  8]\n",
      " [ 0  0  0  2  3  5  9]\n",
      " [ 0  0  0  2  3  4 10]\n",
      " [ 0  0  0  6 11  4  7]\n",
      " [ 6 12 13  4  7 14 15]]\n"
     ]
    }
   ],
   "source": [
    "print(padded)"
   ]
  },
  {
   "cell_type": "code",
   "execution_count": null,
   "metadata": {},
   "outputs": [],
   "source": []
  }
 ],
 "metadata": {
  "kernelspec": {
   "display_name": "Python 3",
   "language": "python",
   "name": "python3"
  },
  "language_info": {
   "codemirror_mode": {
    "name": "ipython",
    "version": 3
   },
   "file_extension": ".py",
   "mimetype": "text/x-python",
   "name": "python",
   "nbconvert_exporter": "python",
   "pygments_lexer": "ipython3",
   "version": "3.7.4"
  }
 },
 "nbformat": 4,
 "nbformat_minor": 2
}
